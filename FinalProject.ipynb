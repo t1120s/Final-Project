{
 "cells": [
  {
   "cell_type": "code",
   "execution_count": 1,
   "metadata": {},
   "outputs": [],
   "source": [
    "def count_substrings(seq, k):\n",
    "     # Initialize an empty dictionary\n",
    "    substr_counts = {}\n",
    "\n",
    "    # Slide the window along the sequence\n",
    "    for i in range(len(seq)-k+1):\n",
    "        # Get the substring of size k\n",
    "        substr = seq[i:i+k]\n",
    "\n",
    "        # If the substring is observed for the first time, add it to the dictionary\n",
    "        if substr not in substr_counts:\n",
    "            substr_counts[substr] = 1\n",
    "        # If the substring is already in the dictionary, increment its count\n",
    "        else:\n",
    "            substr_counts[substr] += 1\n",
    "\n",
    "    # Count the number of unique substrings in the dictionary\n",
    "    num_observed_substrings = len(substr_counts)\n",
    "\n",
    "    return num_observed_substrings"
   ]
  },
  {
   "cell_type": "code",
   "execution_count": 4,
   "metadata": {},
   "outputs": [
    {
     "name": "stdout",
     "output_type": "stream",
     "text": [
      "6\n"
     ]
    }
   ],
   "source": [
    "seq = \"ATGTCTGTCTGTA\"\n",
    "k = 3\n",
    "num_observed_substrings = count_substrings(seq, k)\n",
    "print(num_observed_substrings)  # Output: 6"
   ]
  },
  {
   "cell_type": "code",
   "execution_count": 2,
   "metadata": {},
   "outputs": [],
   "source": [
    "def count_possible_substrings(seq, k):\n",
    "     # Compute the number of possible substrings using the formula (n - k + 1), \n",
    "    # where n is the length of the sequence and k is the size of the substring\n",
    "    num_possible_substrings = len(seq) - k + 1\n",
    "\n",
    "    return num_possible_substrings"
   ]
  },
  {
   "cell_type": "code",
   "execution_count": 4,
   "metadata": {},
   "outputs": [
    {
     "name": "stdout",
     "output_type": "stream",
     "text": [
      "11\n"
     ]
    }
   ],
   "source": [
    "# Example usage\n",
    "seq = \"ATGTCTGTCTGTA\"\n",
    "k = 3\n",
    "num_possible_substrings = count_possible_substrings(seq, k)\n",
    "print(num_possible_substrings)  # Output: 11"
   ]
  },
  {
   "cell_type": "code",
   "execution_count": 3,
   "metadata": {},
   "outputs": [],
   "source": [
    "def calculate_linguistic_complexity(seq, k):\n",
    "   # Count the number of different observed substrings of size k\n",
    "    num_observed_substrings = count_substrings(seq, k)\n",
    "\n",
    "    # Count the number of possible substrings of size k\n",
    "    num_possible_substrings = count_possible_substrings(seq, k)\n",
    "\n",
    "    # Compute the linguistic complexity using the formula num_observed_substrings / num_possible_substrings\n",
    "    linguistic_complexity = num_observed_substrings / num_possible_substrings\n",
    "\n",
    "    return linguistic_complexity"
   ]
  },
  {
   "cell_type": "code",
   "execution_count": 8,
   "metadata": {},
   "outputs": [
    {
     "name": "stdout",
     "output_type": "stream",
     "text": [
      "0.5454545454545454\n"
     ]
    }
   ],
   "source": [
    "# Example usage\n",
    "seq = \"ATGTCTGTCTGTA\"\n",
    "k = 3\n",
    "linguistic_complexity = calculate_linguistic_complexity(seq, k)\n",
    "print(linguistic_complexity)  # Output: 0.545"
   ]
  },
  {
   "cell_type": "code",
   "execution_count": 7,
   "metadata": {},
   "outputs": [
    {
     "ename": "ModuleNotFoundError",
     "evalue": "No module named 'FinalProject'",
     "output_type": "error",
     "traceback": [
      "\u001b[0;31m---------------------------------------------------------------------------\u001b[0m",
      "\u001b[0;31mModuleNotFoundError\u001b[0m                       Traceback (most recent call last)",
      "\u001b[0;32m<ipython-input-7-cd438ac3659f>\u001b[0m in \u001b[0;36m<module>\u001b[0;34m\u001b[0m\n\u001b[1;32m      1\u001b[0m \u001b[0;32mimport\u001b[0m \u001b[0mpytest\u001b[0m\u001b[0;34m\u001b[0m\u001b[0;34m\u001b[0m\u001b[0m\n\u001b[0;32m----> 2\u001b[0;31m \u001b[0;32mfrom\u001b[0m \u001b[0mFinalProject\u001b[0m\u001b[0;34m.\u001b[0m\u001b[0mipynb\u001b[0m \u001b[0;32mimport\u001b[0m \u001b[0mcount_substrings\u001b[0m\u001b[0;34m,\u001b[0m \u001b[0mcount_possible_substrings\u001b[0m\u001b[0;34m,\u001b[0m \u001b[0mlinguistic_complexity\u001b[0m\u001b[0;34m\u001b[0m\u001b[0;34m\u001b[0m\u001b[0m\n\u001b[0m\u001b[1;32m      3\u001b[0m \u001b[0;34m\u001b[0m\u001b[0m\n\u001b[1;32m      4\u001b[0m \u001b[0;32mdef\u001b[0m \u001b[0mtest_count_substrings\u001b[0m\u001b[0;34m(\u001b[0m\u001b[0;34m)\u001b[0m\u001b[0;34m:\u001b[0m\u001b[0;34m\u001b[0m\u001b[0;34m\u001b[0m\u001b[0m\n\u001b[1;32m      5\u001b[0m     \u001b[0mseq\u001b[0m \u001b[0;34m=\u001b[0m \u001b[0;34m\"ATGTCTGTCTGTA\"\u001b[0m\u001b[0;34m\u001b[0m\u001b[0;34m\u001b[0m\u001b[0m\n",
      "\u001b[0;31mModuleNotFoundError\u001b[0m: No module named 'FinalProject'"
     ]
    }
   ],
   "source": []
  },
  {
   "cell_type": "code",
   "execution_count": null,
   "metadata": {},
   "outputs": [],
   "source": []
  }
 ],
 "metadata": {
  "kernelspec": {
   "display_name": "Python 3",
   "language": "python",
   "name": "python3"
  },
  "language_info": {
   "codemirror_mode": {
    "name": "ipython",
    "version": 3
   },
   "file_extension": ".py",
   "mimetype": "text/x-python",
   "name": "python",
   "nbconvert_exporter": "python",
   "pygments_lexer": "ipython3",
   "version": "3.6.8"
  }
 },
 "nbformat": 4,
 "nbformat_minor": 4
}
